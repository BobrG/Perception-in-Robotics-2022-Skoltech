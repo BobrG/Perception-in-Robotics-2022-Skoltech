{
 "cells": [
  {
   "cell_type": "code",
   "execution_count": 2,
   "metadata": {},
   "outputs": [
    {
     "name": "stdout",
     "output_type": "stream",
     "text": [
      "Collecting mrob\n",
      "\u001b[?25l  Downloading https://files.pythonhosted.org/packages/32/92/6c246bf1fd9e6f474ff6516ce84b9a037684ca783426cc6633ef9b7720c0/mrob-0.0.8-py3-none-macosx_10_9_x86_64.whl (1.1MB)\n",
      "\u001b[K     |████████████████████████████████| 1.1MB 1.7MB/s eta 0:00:01\n",
      "\u001b[?25hInstalling collected packages: mrob\n",
      "Successfully installed mrob-0.0.8\n"
     ]
    }
   ],
   "source": [
    "!pip install mrob"
   ]
  },
  {
   "cell_type": "code",
   "execution_count": 1,
   "metadata": {},
   "outputs": [],
   "source": [
    "import mrob\n",
    "import numpy as np"
   ]
  },
  {
   "cell_type": "markdown",
   "metadata": {},
   "source": [
    "# Graph SLAM, using a library\n",
    "in this seminar, we will show some of the functionalities of using a library for solving graphSLAM. [MROB: Mobile Robotics library](https://github.com/MobileRoboticsSkoltech/mrob) is a library for general use of perception techniques: FGraphs, Rigid Body Transformation and Point Cloud alignment.\n",
    "\n",
    "We will show two basic problems in 2D and discuss the \n",
    "\n",
    "Other interesting libraries to explore are g2o (Kumerle'2011) and GTSAM (Dellaert'2011)."
   ]
  },
  {
   "cell_type": "markdown",
   "metadata": {},
   "source": [
    "## 1 Creating a Graph\n",
    "We will start by creating a graph, and then add a node. You can get familiar by using help or from the examples in mrob (see github python_examples)"
   ]
  },
  {
   "cell_type": "code",
   "execution_count": 2,
   "metadata": {},
   "outputs": [],
   "source": [
    "graph = mrob.FGraph()"
   ]
  },
  {
   "cell_type": "code",
   "execution_count": 3,
   "metadata": {},
   "outputs": [
    {
     "name": "stdout",
     "output_type": "stream",
     "text": [
      "Status of graph: 0Nodes and 0Factors.\n"
     ]
    }
   ],
   "source": [
    "with mrob.ostream_redirect(stdout=True, stderr=True):\n",
    "      graph.print()"
   ]
  },
  {
   "cell_type": "markdown",
   "metadata": {},
   "source": [
    "## 2. Add the first Node $x_0$\n",
    "We will add the first node to the Fgraph. Create a random initial state ($\\sigma = 0.1 $)and add it to the graph. For that, use the function add_node_pose_2d().\n",
    "\n",
    "Print your graph in simplified mode and in complete form."
   ]
  },
  {
   "cell_type": "code",
   "execution_count": 4,
   "metadata": {},
   "outputs": [
    {
     "data": {
      "text/plain": [
       "\u001b[0;31mDocstring:\u001b[0m\n",
       "add_node_pose_2d(self: mrob.mrob.FGraph, arg0: numpy.ndarray[numpy.float64[3, 1]]) -> int\n",
       "\n",
       " - arguments, initial estimate (np.zeros(3)\n",
       "output, node id, for later usage\n",
       "\u001b[0;31mType:\u001b[0m      method\n"
      ]
     },
     "metadata": {},
     "output_type": "display_data"
    }
   ],
   "source": [
    "?graph.add_node_pose_2d"
   ]
  },
  {
   "cell_type": "code",
   "execution_count": 5,
   "metadata": {},
   "outputs": [
    {
     "name": "stdout",
     "output_type": "stream",
     "text": [
      "Status of graph: 0Nodes and 0Factors.\n"
     ]
    },
    {
     "data": {
      "text/plain": [
       "\u001b[0;31mDocstring:\u001b[0m\n",
       "print(self: mrob.mrob.FGraph, completePrint: bool = False) -> None\n",
       "\n",
       "By default False: does not print all the information on the Fgraph\n",
       "\u001b[0;31mType:\u001b[0m      method\n"
      ]
     },
     "metadata": {},
     "output_type": "display_data"
    }
   ],
   "source": [
    "?graph.print\n",
    "with mrob.ostream_redirect(stdout=True, stderr=True):\n",
    "      graph.print(True)"
   ]
  },
  {
   "cell_type": "code",
   "execution_count": 6,
   "metadata": {},
   "outputs": [],
   "source": [
    "n0 = graph.add_node_pose_2d(np.random.rand(3)*0.1)"
   ]
  },
  {
   "cell_type": "code",
   "execution_count": 7,
   "metadata": {},
   "outputs": [
    {
     "name": "stdout",
     "output_type": "stream",
     "text": [
      "Status of graph: 1Nodes and 0Factors.\n",
      "Printing NodePose2d: 0, state = \n",
      " 0.0176678\n",
      "0.00979786\n",
      " 0.0983741\n",
      "and neighbour factors 0\n"
     ]
    }
   ],
   "source": [
    "with mrob.ostream_redirect(stdout=True, stderr=True):\n",
    "      graph.print(True)"
   ]
  },
  {
   "cell_type": "markdown",
   "metadata": {},
   "source": [
    "## 3. Add a factor to $x_0$\n",
    "Now that we have a node in the graph, we want to add the first observation. In this case it will be an anchor factor, assuming we are observing that the node is at $[0,0,0]$ with information $\\Sigma_{x_0}= 10^6 I$ "
   ]
  },
  {
   "cell_type": "code",
   "execution_count": 8,
   "metadata": {},
   "outputs": [
    {
     "data": {
      "text/plain": [
       "\u001b[0;31mDocstring:\u001b[0m add_factor_1pose_2d(self: mrob.mrob.FGraph, arg0: numpy.ndarray[numpy.float64[3, 1]], arg1: int, arg2: numpy.ndarray[numpy.float64[3, 3]]) -> None\n",
       "\u001b[0;31mType:\u001b[0m      method\n"
      ]
     },
     "metadata": {},
     "output_type": "display_data"
    },
    {
     "name": "stdout",
     "output_type": "stream",
     "text": [
      "Status of graph: 1Nodes and 0Factors.\n",
      "Printing NodePose2d: 0, state = \n",
      " 0.0176678\n",
      "0.00979786\n",
      " 0.0983741\n",
      "and neighbour factors 0\n"
     ]
    }
   ],
   "source": [
    "?graph.add_factor_1pose_2d\n",
    "\n",
    "with mrob.ostream_redirect(stdout=True, stderr=True):\n",
    "      graph.print(True)"
   ]
  },
  {
   "cell_type": "code",
   "execution_count": 10,
   "metadata": {},
   "outputs": [],
   "source": [
    "graph.add_factor_1pose_2d(np.zeros(shape=(3, 1)), n0, 1e6*np.eye(3))"
   ]
  },
  {
   "cell_type": "code",
   "execution_count": 11,
   "metadata": {},
   "outputs": [
    {
     "name": "stdout",
     "output_type": "stream",
     "text": [
      "Status of graph: 1Nodes and 1Factors.\n",
      "Printing NodePose2d: 0, state = \n",
      " 0.0176678\n",
      "0.00979786\n",
      " 0.0983741\n",
      "and neighbour factors 1\n",
      "Printing Factor: 0, obs= \n",
      "0\n",
      "0\n",
      "0\n",
      " Residuals= \n",
      "6.92663e-310\n",
      "2.20895e-314\n",
      "6.92663e-310 \n",
      "and Information matrix\n",
      "1e+06     0     0\n",
      "    0 1e+06     0\n",
      "    0     0 1e+06\n",
      " Calculated Jacobian = \n",
      "0 0 0\n",
      "0 0 0\n",
      "0 0 0\n",
      " Chi2 error = 0 and neighbour Nodes 1\n"
     ]
    }
   ],
   "source": [
    "with mrob.ostream_redirect(stdout=True, stderr=True):\n",
    "      graph.print(True)"
   ]
  },
  {
   "cell_type": "markdown",
   "metadata": {},
   "source": [
    "## 4. Analize the current error in the graph\n",
    "For this, use the function chi2, which evaluates the problem at the current point and calculates the current value of the residuals.\n",
    "\n",
    "You can also get the current state estimate by using the function get_estimated_state(). Print its current value."
   ]
  },
  {
   "cell_type": "code",
   "execution_count": 12,
   "metadata": {},
   "outputs": [
    {
     "data": {
      "text/plain": [
       "5042.80375680298"
      ]
     },
     "execution_count": 12,
     "metadata": {},
     "output_type": "execute_result"
    }
   ],
   "source": [
    "graph.chi2()"
   ]
  },
  {
   "cell_type": "markdown",
   "metadata": {},
   "source": [
    "## 5. Solve\n",
    "We will use the Gauss Newton routine (default) with one iteration. For that, call the function solve() and reculate the current estimate and the error."
   ]
  },
  {
   "cell_type": "code",
   "execution_count": 13,
   "metadata": {},
   "outputs": [
    {
     "name": "stdout",
     "output_type": "stream",
     "text": [
      "Status of graph: 1Nodes and 1Factors.\n",
      "Printing NodePose2d: 0, state = \n",
      "3.46945e-18\n",
      "          0\n",
      "          0\n",
      "and neighbour factors 1\n",
      "Printing Factor: 0, obs= \n",
      "0\n",
      "0\n",
      "0\n",
      " Residuals= \n",
      " 0.0176678\n",
      "0.00979786\n",
      " 0.0983741 \n",
      "and Information matrix\n",
      "1e+06     0     0\n",
      "    0 1e+06     0\n",
      "    0     0 1e+06\n",
      " Calculated Jacobian = \n",
      "1 0 0\n",
      "0 1 0\n",
      "0 0 1\n",
      " Chi2 error = 5042.8 and neighbour Nodes 1\n"
     ]
    }
   ],
   "source": [
    "with mrob.ostream_redirect(stdout=True, stderr=True):\n",
    "    graph.solve()\n",
    "    graph.print(True)"
   ]
  },
  {
   "cell_type": "code",
   "execution_count": null,
   "metadata": {},
   "outputs": [],
   "source": []
  }
 ],
 "metadata": {
  "kernelspec": {
   "display_name": "Python 3",
   "language": "python",
   "name": "python3"
  },
  "language_info": {
   "codemirror_mode": {
    "name": "ipython",
    "version": 3
   },
   "file_extension": ".py",
   "mimetype": "text/x-python",
   "name": "python",
   "nbconvert_exporter": "python",
   "pygments_lexer": "ipython3",
   "version": "3.7.3"
  }
 },
 "nbformat": 4,
 "nbformat_minor": 4
}
